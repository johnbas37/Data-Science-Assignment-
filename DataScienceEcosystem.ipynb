{
 "cells": [
  {
   "cell_type": "markdown",
   "id": "80cd47ec-c00a-4002-981e-95d8eeb8fa22",
   "metadata": {},
   "source": [
    "Data Science Tools and Ecosystem"
   ]
  },
  {
   "cell_type": "markdown",
   "id": "7639bf3c-11ba-494a-8b82-073b75cc6b76",
   "metadata": {},
   "source": [
    "In this notebook, Data Science Tools and Ecosystem are summarized."
   ]
  },
  {
   "cell_type": "markdown",
   "id": "f6f0ac43-38c3-46be-9901-562cb43100a0",
   "metadata": {},
   "source": [
    "Some of the popular languages that Data Scientists use are:\n",
    "1. Python\n",
    "2. R\n",
    "3. Java\n",
    "4. SQL"
   ]
  },
  {
   "cell_type": "markdown",
   "id": "ffaa5444-b3fe-4422-8e05-537d8653f55e",
   "metadata": {},
   "source": [
    "**Objectives:**\n",
    "- List popular languages for Data Science\n",
    "- Explain the importance of Jupyter Notebook in Data Science\n",
    "- Demonstrate basic Jupyter Notebook functionalities\n",
    "- Discuss best practices for organizing and documenting Jupyter Notebooks"
   ]
  },
  {
   "cell_type": "markdown",
   "id": "0d809544-09ef-47e3-9240-9f5f7d60367b",
   "metadata": {},
   "source": [
    "Some of the commonly used libraries used by Data Scientists include:\n",
    "1. NumPy\n",
    "2. SciPy\n",
    "3. TensorFlow\n",
    "4. Matplotlib\n"
   ]
  },
  {
   "cell_type": "markdown",
   "id": "168272f6-6109-46c5-b041-739dbe9960cf",
   "metadata": {},
   "source": [
    "| Data Science Tools |\r\n",
    "|----------|\r",
    "Apache Spark   |\r",
    "TensorFlow 3  \n",
    "| \n",
    "Jupyter   |  |"
   ]
  },
  {
   "cell_type": "markdown",
   "id": "94218777-81af-4824-b0a1-151332845595",
   "metadata": {},
   "source": [
    "\n",
    "# Introduction to Arithmetic Expressions\n",
    "\n",
    "Below are a few examples of evaluating arithmetic expressions in Python:\n",
    "\n",
    "1. Addition: `3 + 5`\n",
    "2. Subtraction: `10 - 4`\n",
    "3. Multiplication: `6 * 7`\n",
    "4. Division: `20 / 4`"
   ]
  },
  {
   "cell_type": "code",
   "execution_count": null,
   "id": "e1d38acf-f01f-4a55-9443-2b05ec00ffe1",
   "metadata": {},
   "outputs": [],
   "source": [
    "This a simple arithmetic expression to mutiply then add integers"
   ]
  },
  {
   "cell_type": "code",
   "execution_count": 34,
   "id": "ef76329d-236d-4d50-82f7-4df076e12026",
   "metadata": {},
   "outputs": [
    {
     "data": {
      "text/plain": [
       "17"
      ]
     },
     "execution_count": 34,
     "metadata": {},
     "output_type": "execute_result"
    }
   ],
   "source": [
    "(3*4)+5"
   ]
  },
  {
   "cell_type": "code",
   "execution_count": null,
   "id": "ce6a9a3e-5b77-422a-a2a3-ebc86b4374d2",
   "metadata": {},
   "outputs": [],
   "source": [
    "This will convert 200 minutes to hours by diving by 60"
   ]
  },
  {
   "cell_type": "code",
   "execution_count": 36,
   "id": "f7004198-7da6-4674-97b7-eb05f7f6767c",
   "metadata": {},
   "outputs": [
    {
     "data": {
      "text/plain": [
       "3.3333333333333335"
      ]
     },
     "execution_count": 36,
     "metadata": {},
     "output_type": "execute_result"
    }
   ],
   "source": [
    "200/60"
   ]
  },
  {
   "cell_type": "markdown",
   "id": "f93655d3-469d-423d-8296-a65ccaf4e837",
   "metadata": {},
   "source": [
    "Author  \n",
    "\n",
    "\n",
    "John Bassem Samir"
   ]
  },
  {
   "cell_type": "code",
   "execution_count": null,
   "id": "ec624532-af85-4457-9917-2d90cab9277f",
   "metadata": {},
   "outputs": [],
   "source": []
  }
 ],
 "metadata": {
  "kernelspec": {
   "display_name": "Python 3 (ipykernel)",
   "language": "python",
   "name": "python3"
  },
  "language_info": {
   "codemirror_mode": {
    "name": "ipython",
    "version": 3
   },
   "file_extension": ".py",
   "mimetype": "text/x-python",
   "name": "python",
   "nbconvert_exporter": "python",
   "pygments_lexer": "ipython3",
   "version": "3.12.4"
  }
 },
 "nbformat": 4,
 "nbformat_minor": 5
}
